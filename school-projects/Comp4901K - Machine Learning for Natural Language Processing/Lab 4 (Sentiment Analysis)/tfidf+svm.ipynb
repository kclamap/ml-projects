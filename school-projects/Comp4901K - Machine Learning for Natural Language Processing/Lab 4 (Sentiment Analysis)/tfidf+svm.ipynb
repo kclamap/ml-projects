{
 "cells": [
  {
   "cell_type": "code",
   "execution_count": 5,
   "metadata": {},
   "outputs": [],
   "source": [
    "import numpy as np\n",
    "from scipy import sparse\n",
    "#from collections import Counter\n",
    "from sklearn.metrics import accuracy_score, precision_recall_fscore_support\n",
    "#import nltk\n",
    "#from nltk.corpus import stopwords\n",
    "import string\n",
    "import pandas as pd\n",
    "\n",
    "from sklearn.feature_selection import SelectKBest, chi2, mutual_info_classif\n",
    "from sklearn.feature_selection import SelectPercentile, f_classif\n",
    "from sklearn.feature_extraction.text import TfidfVectorizer\n",
    "from sklearn.decomposition import TruncatedSVD\n",
    "from sklearn.svm import SVC\n",
    "from sklearn.multiclass import OneVsRestClassifier\n",
    "from sklearn.metrics import precision_recall_fscore_support\n",
    "#nltk.download('stopwords')\n",
    "#nltk.download('punkt')\n",
    "#stop_words = set(stopwords.words('english') + list(string.punctuation))\n",
    "#stop_words = list(stop_words)\n",
    "#stop_words.sort()"
   ]
  },
  {
   "cell_type": "code",
   "execution_count": 6,
   "metadata": {},
   "outputs": [],
   "source": [
    "train = pd.read_csv(\"data/train.csv\")\n",
    "content_train = train['text']\n",
    "num_train = content_train.shape[0]"
   ]
  },
  {
   "cell_type": "code",
   "execution_count": 10,
   "metadata": {
    "scrolled": false
   },
   "outputs": [
    {
     "name": "stdout",
     "output_type": "stream",
     "text": [
      "(16000, 812229)\n"
     ]
    }
   ],
   "source": [
    "vectorizer = TfidfVectorizer(norm = 'l2', ngram_range = [1, 2])# ngram_range = [1, 2]\n",
    "tf_idf_x = vectorizer.fit_transform(content_train)\n",
    "print(tf_idf_x.shape)"
   ]
  },
  {
   "cell_type": "markdown",
   "metadata": {},
   "source": [
    "Select K best method"
   ]
  },
  {
   "cell_type": "code",
   "execution_count": 21,
   "metadata": {},
   "outputs": [
    {
     "name": "stdout",
     "output_type": "stream",
     "text": [
      "(16000, 20000)\n"
     ]
    }
   ],
   "source": [
    "skbf = SelectKBest(f_classif, k = 20000)\n",
    "tf_idf_x_new = skbf.fit_transform(tf_idf_x, train['label'])\n",
    "print(tf_idf_x_new.shape)"
   ]
  },
  {
   "cell_type": "code",
   "execution_count": 22,
   "metadata": {},
   "outputs": [
    {
     "name": "stdout",
     "output_type": "stream",
     "text": [
      "(16000, 6000)\n"
     ]
    }
   ],
   "source": [
    "skbm = SelectKBest(mutual_info_classif, k = 6000)\n",
    "tf_idf_x_new = skbm.fit_transform(tf_idf_x_new, train['label'])\n",
    "print(tf_idf_x_new.shape)"
   ]
  },
  {
   "cell_type": "code",
   "execution_count": 15,
   "metadata": {
    "scrolled": true
   },
   "outputs": [
    {
     "name": "stdout",
     "output_type": "stream",
     "text": [
      "(16000, 600)\n",
      "0.5677325633908916\n"
     ]
    }
   ],
   "source": [
    "svd = TruncatedSVD(n_components = 600, n_iter=10, random_state=42)\n",
    "svd.fit(tf_idf_x_new)\n",
    "pc_tf_idf_x = svd.transform(tf_idf_x_new)\n",
    "print(pc_tf_idf_x.shape)\n",
    "print(np.sum(svd.explained_variance_ratio_))"
   ]
  },
  {
   "cell_type": "code",
   "execution_count": 16,
   "metadata": {},
   "outputs": [
    {
     "name": "stdout",
     "output_type": "stream",
     "text": [
      "(6400, 600)\n",
      "(6400,)\n",
      "(1600, 600)\n",
      "(1600,)\n"
     ]
    }
   ],
   "source": [
    "tvt = [12800, 1600, 1600]\n",
    "X_train = pc_tf_idf_x[:6400, :]\n",
    "y_train = train['label'][:6400]\n",
    "X_test = pc_tf_idf_x[np.int(tvt[0] + tvt[1]):, :]\n",
    "y_test = train['label'][np.int(tvt[0] + tvt[1]):]\n",
    "print(X_train.shape)\n",
    "print(y_train.shape)\n",
    "print(X_test.shape)\n",
    "print(y_test.shape)"
   ]
  },
  {
   "cell_type": "code",
   "execution_count": 65,
   "metadata": {
    "scrolled": false
   },
   "outputs": [
    {
     "name": "stdout",
     "output_type": "stream",
     "text": [
      "HI\n",
      "Bye\n",
      "linear ,\tdegree:  2 ,\tC =  100 ,\n",
      "training accuracy=  0.70890625 \tf1:  0.6750776009475576 \tvalid accuracy=  0.5790625\n",
      "linear ,\tdegree:  2 ,\tC =  300 ,\n",
      "training accuracy=  0.71921875 \tf1:  0.687596591205714 \tvalid accuracy=  0.5721875000000001\n",
      "linear ,\tdegree:  2 ,\tC =  500 ,\n",
      "training accuracy=  0.72015625 \tf1:  0.6921507253361445 \tvalid accuracy=  0.5700000000000001\n"
     ]
    }
   ],
   "source": [
    "print(\"HI\")\n",
    "# a bit of initialization\n",
    "num_folds = 5\n",
    "c_choice = [100, 300, 500]\n",
    "kernel_choice = ['linear']\n",
    "#g_choice = [1e-9, 1e-6, 1e-3, 1, 1000, 1000000]\n",
    "kernel_degree = [2]\n",
    "X_train_folds = np.array_split(X_train, num_folds)\n",
    "y_train_folds = np.array_split(y_train, num_folds)\n",
    "besta= [0, 0, 0, 0]\n",
    "bestf= [0, 0, 0, 0]\n",
    "print(\"Bye\")\n",
    "\n",
    "#for g in g_choice:\n",
    "for c in c_choice:\n",
    "    for kc in kernel_choice:\n",
    "        for kd in kernel_degree:\n",
    "            averf = 0\n",
    "            accuracy = 0\n",
    "            for valindex in range(num_folds):\n",
    "                # prepare the data\n",
    "                X_traini = np.vstack((X_train_folds[0:valindex]+ X_train_folds[valindex+1:num_folds]))\n",
    "                y_traini = np.hstack((y_train_folds[0:valindex]+ y_train_folds[valindex+1:num_folds]))\n",
    "                X_vali = np.array(X_train_folds[valindex])\n",
    "                y_vali = np.array(y_train_folds[valindex])\n",
    "\n",
    "                # train a non-linear svm on this fold\n",
    "                model = OneVsRestClassifier(SVC(C = c, kernel = kc, degree = kd, gamma = 'auto'), n_jobs = -1)\n",
    "                clf = model.fit(X_traini, y_traini)\n",
    "                \n",
    "                accuracy += clf.score(X_vali, y_vali)\n",
    "                precision, recall, f1, _ = precision_recall_fscore_support(y_train, clf.predict(X_train), average=\"macro\")\n",
    "                averf += f1\n",
    "\n",
    "            # calculate average accuracy\n",
    "            accuracy /= num_folds\n",
    "            averf /= num_folds\n",
    "\n",
    "            # memorise and update the so-far best non-linear svm, if approperiate\n",
    "            if (averf > bestf[0]):\n",
    "                bestf[0] = averf\n",
    "                bestf[1] = c\n",
    "                bestf[2] = kc\n",
    "                bestf[3] = kd\n",
    "                best_svmf = SVC(C = c, kernel = kc, degree = kd)\n",
    "            if (accuracy > besta[0]):\n",
    "                besta[0] = accuracy\n",
    "                besta[1] = c\n",
    "                besta[2] = kc\n",
    "                besta[3] = kd\n",
    "                best_svma = SVC(C = c, kernel = kc, degree = kd)\n",
    "\n",
    "            # print the accuracy of the current non-linear svm\n",
    "            print(kc, \",\\tdegree: \", kd, \",\\tC = \", c, \",\\ntraining accuracy= \", clf.score(X_train, y_train), \"\\tf1: \", averf, \"\\tvalid accuracy= \", accuracy)"
   ]
  },
  {
   "cell_type": "code",
   "execution_count": 17,
   "metadata": {},
   "outputs": [
    {
     "name": "stdout",
     "output_type": "stream",
     "text": [
      "0.659375   0.628413841106995\n"
     ]
    }
   ],
   "source": [
    "X_train = pc_tf_idf_x[:14400, :]\n",
    "y_train = train['label'][:14400]\n",
    "model = OneVsRestClassifier(SVC(C = 300, kernel = 'linear', degree = 2, gamma = 'auto'), n_jobs = -1)\n",
    "clf = model.fit(X_train, y_train)\n",
    "precision, recall, f1, _ = precision_recall_fscore_support(y_train, clf.predict(X_train), average=\"macro\")\n",
    "print(clf.score(X_test, y_test), \" \", f1)"
   ]
  },
  {
   "cell_type": "code",
   "execution_count": 18,
   "metadata": {},
   "outputs": [],
   "source": [
    "X_train = pc_tf_idf_x[:16000, :]\n",
    "y_train = train['label'][:16000]\n",
    "modelf = OneVsRestClassifier(SVC(C = 300, kernel = 'linear', degree = 2, gamma = 'auto'), n_jobs = -1)\n",
    "clff = modelf.fit(X_train, y_train)"
   ]
  },
  {
   "cell_type": "code",
   "execution_count": 19,
   "metadata": {},
   "outputs": [
    {
     "name": "stdout",
     "output_type": "stream",
     "text": [
      "(4491,)\n",
      "(4491, 812229)\n"
     ]
    }
   ],
   "source": [
    "test = pd.read_csv(\"data/test.csv\")\n",
    "content_test = test['text']\n",
    "print(content_test.shape)\n",
    "tf_idf_x_test = vectorizer.transform(content_test)\n",
    "print(tf_idf_x_test.shape)"
   ]
  },
  {
   "cell_type": "code",
   "execution_count": 23,
   "metadata": {},
   "outputs": [
    {
     "name": "stdout",
     "output_type": "stream",
     "text": [
      "(4491, 600)\n"
     ]
    }
   ],
   "source": [
    "tf_idf_x_test_new = skbf.transform(tf_idf_x_test)\n",
    "tf_idf_x_test_new = skbm.transform(tf_idf_x_test_new)\n",
    "pc_tf_idf_test = svd.transform(tf_idf_x_test_new)\n",
    "print(pc_tf_idf_test.shape)"
   ]
  },
  {
   "cell_type": "code",
   "execution_count": 24,
   "metadata": {},
   "outputs": [
    {
     "name": "stdout",
     "output_type": "stream",
     "text": [
      "(4491, 6000)\n"
     ]
    }
   ],
   "source": [
    "print(tf_idf_x_test_new.shape)"
   ]
  },
  {
   "cell_type": "code",
   "execution_count": 25,
   "metadata": {},
   "outputs": [],
   "source": [
    "id_test = test['id']\n",
    "sub_df = pd.DataFrame()\n",
    "sub_df[\"id\"] = id_test\n",
    "pred = clff.predict(pc_tf_idf_test)\n",
    "sub_df[\"pred\"] = pred\n",
    "sub_df.to_csv(\"submission.csv\", index=False)"
   ]
  },
  {
   "cell_type": "code",
   "execution_count": null,
   "metadata": {},
   "outputs": [],
   "source": []
  }
 ],
 "metadata": {
  "kernelspec": {
   "display_name": "Python 3",
   "language": "python",
   "name": "python3"
  },
  "language_info": {
   "codemirror_mode": {
    "name": "ipython",
    "version": 3
   },
   "file_extension": ".py",
   "mimetype": "text/x-python",
   "name": "python",
   "nbconvert_exporter": "python",
   "pygments_lexer": "ipython3",
   "version": "3.6.6"
  }
 },
 "nbformat": 4,
 "nbformat_minor": 2
}
